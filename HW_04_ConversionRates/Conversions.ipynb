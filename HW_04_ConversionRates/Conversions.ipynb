{
 "cells": [
  {
   "cell_type": "code",
   "execution_count": 1,
   "metadata": {},
   "outputs": [],
   "source": [
    "import pandas as pd"
   ]
  },
  {
   "cell_type": "code",
   "execution_count": 2,
   "metadata": {},
   "outputs": [],
   "source": [
    "conversions = pd.read_csv(\"conversiones.csv\")"
   ]
  },
  {
   "cell_type": "code",
   "execution_count": 3,
   "metadata": {},
   "outputs": [
    {
     "data": {
      "text/html": [
       "<div>\n",
       "<style scoped>\n",
       "    .dataframe tbody tr th:only-of-type {\n",
       "        vertical-align: middle;\n",
       "    }\n",
       "\n",
       "    .dataframe tbody tr th {\n",
       "        vertical-align: top;\n",
       "    }\n",
       "\n",
       "    .dataframe thead th {\n",
       "        text-align: right;\n",
       "    }\n",
       "</style>\n",
       "<table border=\"1\" class=\"dataframe\">\n",
       "  <thead>\n",
       "    <tr style=\"text-align: right;\">\n",
       "      <th></th>\n",
       "      <th>country</th>\n",
       "      <th>age</th>\n",
       "      <th>new_user</th>\n",
       "      <th>source</th>\n",
       "      <th>total_pages_visited</th>\n",
       "      <th>converted</th>\n",
       "    </tr>\n",
       "  </thead>\n",
       "  <tbody>\n",
       "    <tr>\n",
       "      <th>0</th>\n",
       "      <td>UK</td>\n",
       "      <td>25</td>\n",
       "      <td>1</td>\n",
       "      <td>Ads</td>\n",
       "      <td>1</td>\n",
       "      <td>0</td>\n",
       "    </tr>\n",
       "    <tr>\n",
       "      <th>1</th>\n",
       "      <td>US</td>\n",
       "      <td>23</td>\n",
       "      <td>1</td>\n",
       "      <td>Seo</td>\n",
       "      <td>5</td>\n",
       "      <td>0</td>\n",
       "    </tr>\n",
       "    <tr>\n",
       "      <th>2</th>\n",
       "      <td>US</td>\n",
       "      <td>28</td>\n",
       "      <td>1</td>\n",
       "      <td>Seo</td>\n",
       "      <td>4</td>\n",
       "      <td>0</td>\n",
       "    </tr>\n",
       "    <tr>\n",
       "      <th>3</th>\n",
       "      <td>China</td>\n",
       "      <td>39</td>\n",
       "      <td>1</td>\n",
       "      <td>Seo</td>\n",
       "      <td>5</td>\n",
       "      <td>0</td>\n",
       "    </tr>\n",
       "    <tr>\n",
       "      <th>4</th>\n",
       "      <td>US</td>\n",
       "      <td>30</td>\n",
       "      <td>1</td>\n",
       "      <td>Seo</td>\n",
       "      <td>6</td>\n",
       "      <td>0</td>\n",
       "    </tr>\n",
       "    <tr>\n",
       "      <th>5</th>\n",
       "      <td>US</td>\n",
       "      <td>31</td>\n",
       "      <td>0</td>\n",
       "      <td>Seo</td>\n",
       "      <td>1</td>\n",
       "      <td>0</td>\n",
       "    </tr>\n",
       "    <tr>\n",
       "      <th>6</th>\n",
       "      <td>China</td>\n",
       "      <td>27</td>\n",
       "      <td>1</td>\n",
       "      <td>Seo</td>\n",
       "      <td>4</td>\n",
       "      <td>0</td>\n",
       "    </tr>\n",
       "    <tr>\n",
       "      <th>7</th>\n",
       "      <td>US</td>\n",
       "      <td>23</td>\n",
       "      <td>0</td>\n",
       "      <td>Ads</td>\n",
       "      <td>4</td>\n",
       "      <td>0</td>\n",
       "    </tr>\n",
       "    <tr>\n",
       "      <th>8</th>\n",
       "      <td>UK</td>\n",
       "      <td>29</td>\n",
       "      <td>0</td>\n",
       "      <td>Direct</td>\n",
       "      <td>4</td>\n",
       "      <td>0</td>\n",
       "    </tr>\n",
       "    <tr>\n",
       "      <th>9</th>\n",
       "      <td>US</td>\n",
       "      <td>25</td>\n",
       "      <td>0</td>\n",
       "      <td>Ads</td>\n",
       "      <td>2</td>\n",
       "      <td>0</td>\n",
       "    </tr>\n",
       "  </tbody>\n",
       "</table>\n",
       "</div>"
      ],
      "text/plain": [
       "  country  age  new_user  source  total_pages_visited  converted\n",
       "0      UK   25         1     Ads                    1          0\n",
       "1      US   23         1     Seo                    5          0\n",
       "2      US   28         1     Seo                    4          0\n",
       "3   China   39         1     Seo                    5          0\n",
       "4      US   30         1     Seo                    6          0\n",
       "5      US   31         0     Seo                    1          0\n",
       "6   China   27         1     Seo                    4          0\n",
       "7      US   23         0     Ads                    4          0\n",
       "8      UK   29         0  Direct                    4          0\n",
       "9      US   25         0     Ads                    2          0"
      ]
     },
     "execution_count": 3,
     "metadata": {},
     "output_type": "execute_result"
    }
   ],
   "source": [
    "conversions.head(10)"
   ]
  },
  {
   "cell_type": "code",
   "execution_count": 4,
   "metadata": {},
   "outputs": [
    {
     "data": {
      "text/html": [
       "<style  type=\"text/css\" >\n",
       "    #T_b549de72_2e5a_11e9_becf_9a000f8802c0row0_col0 {\n",
       "            background-color:  #023858;\n",
       "            color:  #f1f1f1;\n",
       "        }    #T_b549de72_2e5a_11e9_becf_9a000f8802c0row0_col1 {\n",
       "            background-color:  #e8e4f0;\n",
       "            color:  #000000;\n",
       "        }    #T_b549de72_2e5a_11e9_becf_9a000f8802c0row0_col2 {\n",
       "            background-color:  #faf3f9;\n",
       "            color:  #000000;\n",
       "        }    #T_b549de72_2e5a_11e9_becf_9a000f8802c0row0_col3 {\n",
       "            background-color:  #f7f0f7;\n",
       "            color:  #000000;\n",
       "        }    #T_b549de72_2e5a_11e9_becf_9a000f8802c0row1_col0 {\n",
       "            background-color:  #f1ebf5;\n",
       "            color:  #000000;\n",
       "        }    #T_b549de72_2e5a_11e9_becf_9a000f8802c0row1_col1 {\n",
       "            background-color:  #023858;\n",
       "            color:  #f1f1f1;\n",
       "        }    #T_b549de72_2e5a_11e9_becf_9a000f8802c0row1_col2 {\n",
       "            background-color:  #fff7fb;\n",
       "            color:  #000000;\n",
       "        }    #T_b549de72_2e5a_11e9_becf_9a000f8802c0row1_col3 {\n",
       "            background-color:  #fff7fb;\n",
       "            color:  #000000;\n",
       "        }    #T_b549de72_2e5a_11e9_becf_9a000f8802c0row2_col0 {\n",
       "            background-color:  #f9f2f8;\n",
       "            color:  #000000;\n",
       "        }    #T_b549de72_2e5a_11e9_becf_9a000f8802c0row2_col1 {\n",
       "            background-color:  #f6eff7;\n",
       "            color:  #000000;\n",
       "        }    #T_b549de72_2e5a_11e9_becf_9a000f8802c0row2_col2 {\n",
       "            background-color:  #023858;\n",
       "            color:  #f1f1f1;\n",
       "        }    #T_b549de72_2e5a_11e9_becf_9a000f8802c0row2_col3 {\n",
       "            background-color:  #4697c4;\n",
       "            color:  #000000;\n",
       "        }    #T_b549de72_2e5a_11e9_becf_9a000f8802c0row3_col0 {\n",
       "            background-color:  #fff7fb;\n",
       "            color:  #000000;\n",
       "        }    #T_b549de72_2e5a_11e9_becf_9a000f8802c0row3_col1 {\n",
       "            background-color:  #fff7fb;\n",
       "            color:  #000000;\n",
       "        }    #T_b549de72_2e5a_11e9_becf_9a000f8802c0row3_col2 {\n",
       "            background-color:  #549cc7;\n",
       "            color:  #000000;\n",
       "        }    #T_b549de72_2e5a_11e9_becf_9a000f8802c0row3_col3 {\n",
       "            background-color:  #023858;\n",
       "            color:  #f1f1f1;\n",
       "        }</style><table id=\"T_b549de72_2e5a_11e9_becf_9a000f8802c0\" ><thead>    <tr>        <th class=\"blank level0\" ></th>        <th class=\"col_heading level0 col0\" >age</th>        <th class=\"col_heading level0 col1\" >new_user</th>        <th class=\"col_heading level0 col2\" >total_pages_visited</th>        <th class=\"col_heading level0 col3\" >converted</th>    </tr></thead><tbody>\n",
       "                <tr>\n",
       "                        <th id=\"T_b549de72_2e5a_11e9_becf_9a000f8802c0level0_row0\" class=\"row_heading level0 row0\" >age</th>\n",
       "                        <td id=\"T_b549de72_2e5a_11e9_becf_9a000f8802c0row0_col0\" class=\"data row0 col0\" >1</td>\n",
       "                        <td id=\"T_b549de72_2e5a_11e9_becf_9a000f8802c0row0_col1\" class=\"data row0 col1\" >0.0123426</td>\n",
       "                        <td id=\"T_b549de72_2e5a_11e9_becf_9a000f8802c0row0_col2\" class=\"data row0 col2\" >-0.0459222</td>\n",
       "                        <td id=\"T_b549de72_2e5a_11e9_becf_9a000f8802c0row0_col3\" class=\"data row0 col3\" >-0.0887974</td>\n",
       "            </tr>\n",
       "            <tr>\n",
       "                        <th id=\"T_b549de72_2e5a_11e9_becf_9a000f8802c0level0_row1\" class=\"row_heading level0 row1\" >new_user</th>\n",
       "                        <td id=\"T_b549de72_2e5a_11e9_becf_9a000f8802c0row1_col0\" class=\"data row1 col0\" >0.0123426</td>\n",
       "                        <td id=\"T_b549de72_2e5a_11e9_becf_9a000f8802c0row1_col1\" class=\"data row1 col1\" >1</td>\n",
       "                        <td id=\"T_b549de72_2e5a_11e9_becf_9a000f8802c0row1_col2\" class=\"data row1 col2\" >-0.0825415</td>\n",
       "                        <td id=\"T_b549de72_2e5a_11e9_becf_9a000f8802c0row1_col3\" class=\"data row1 col3\" >-0.152374</td>\n",
       "            </tr>\n",
       "            <tr>\n",
       "                        <th id=\"T_b549de72_2e5a_11e9_becf_9a000f8802c0level0_row2\" class=\"row_heading level0 row2\" >total_pages_visited</th>\n",
       "                        <td id=\"T_b549de72_2e5a_11e9_becf_9a000f8802c0row2_col0\" class=\"data row2 col0\" >-0.0459222</td>\n",
       "                        <td id=\"T_b549de72_2e5a_11e9_becf_9a000f8802c0row2_col1\" class=\"data row2 col1\" >-0.0825415</td>\n",
       "                        <td id=\"T_b549de72_2e5a_11e9_becf_9a000f8802c0row2_col2\" class=\"data row2 col2\" >1</td>\n",
       "                        <td id=\"T_b549de72_2e5a_11e9_becf_9a000f8802c0row2_col3\" class=\"data row2 col3\" >0.528994</td>\n",
       "            </tr>\n",
       "            <tr>\n",
       "                        <th id=\"T_b549de72_2e5a_11e9_becf_9a000f8802c0level0_row3\" class=\"row_heading level0 row3\" >converted</th>\n",
       "                        <td id=\"T_b549de72_2e5a_11e9_becf_9a000f8802c0row3_col0\" class=\"data row3 col0\" >-0.0887974</td>\n",
       "                        <td id=\"T_b549de72_2e5a_11e9_becf_9a000f8802c0row3_col1\" class=\"data row3 col1\" >-0.152374</td>\n",
       "                        <td id=\"T_b549de72_2e5a_11e9_becf_9a000f8802c0row3_col2\" class=\"data row3 col2\" >0.528994</td>\n",
       "                        <td id=\"T_b549de72_2e5a_11e9_becf_9a000f8802c0row3_col3\" class=\"data row3 col3\" >1</td>\n",
       "            </tr>\n",
       "    </tbody></table>"
      ],
      "text/plain": [
       "<pandas.io.formats.style.Styler at 0x10d2fa3c8>"
      ]
     },
     "execution_count": 4,
     "metadata": {},
     "output_type": "execute_result"
    }
   ],
   "source": [
    "conversions.corr().style.background_gradient()"
   ]
  },
  {
   "cell_type": "markdown",
   "metadata": {},
   "source": [
    "According to the correlation matrix, there's a high correlation between the total pages visited (time spent on the platform) and conversion **0.528994**"
   ]
  },
  {
   "cell_type": "markdown",
   "metadata": {},
   "source": [
    "## Conversion Rate per source\n",
    "\n",
    "Something that can't be appreciated in the correlation matrix is how _how the client arrived at the site_ affects conversion, for that I'll be getting the conversion rate per type of source to analyze that.\n",
    "\n",
    "First I get the number of customers per source type:"
   ]
  },
  {
   "cell_type": "code",
   "execution_count": 5,
   "metadata": {},
   "outputs": [
    {
     "data": {
      "text/plain": [
       "source\n",
       "Ads        88740\n",
       "Direct     72420\n",
       "Seo       155040\n",
       "dtype: int64"
      ]
     },
     "execution_count": 5,
     "metadata": {},
     "output_type": "execute_result"
    }
   ],
   "source": [
    "size_per_group = conversions.groupby([\"source\"]).size()\n",
    "size_per_group"
   ]
  },
  {
   "cell_type": "markdown",
   "metadata": {},
   "source": [
    "Then get the number of customers converted per source type:"
   ]
  },
  {
   "cell_type": "code",
   "execution_count": 6,
   "metadata": {},
   "outputs": [
    {
     "data": {
      "text/plain": [
       "source\n",
       "Ads       3060\n",
       "Direct    2040\n",
       "Seo       5100\n",
       "dtype: int64"
      ]
     },
     "execution_count": 6,
     "metadata": {},
     "output_type": "execute_result"
    }
   ],
   "source": [
    "size_per_converted_group = conversions.loc[conversions.converted == 1].groupby([\"source\"]).size()\n",
    "size_per_converted_group"
   ]
  },
  {
   "cell_type": "markdown",
   "metadata": {},
   "source": [
    "Then calculate the conversion rate (# converted / total) per source type:"
   ]
  },
  {
   "cell_type": "code",
   "execution_count": 7,
   "metadata": {},
   "outputs": [
    {
     "data": {
      "text/plain": [
       "source\n",
       "Ads       0.034483\n",
       "Direct    0.028169\n",
       "Seo       0.032895\n",
       "dtype: float64"
      ]
     },
     "execution_count": 7,
     "metadata": {},
     "output_type": "execute_result"
    }
   ],
   "source": [
    "rates = size_per_converted_group / size_per_group\n",
    "rates"
   ]
  },
  {
   "cell_type": "code",
   "execution_count": 8,
   "metadata": {},
   "outputs": [
    {
     "data": {
      "image/png": "[encoded data removed]",
      "text/plain": [
       "<Figure size 432x288 with 1 Axes>"
      ]
     },
     "metadata": {
      "needs_background": "light"
     },
     "output_type": "display_data"
    }
   ],
   "source": [
    "_ = rates.plot.bar()"
   ]
  },
  {
   "cell_type": "markdown",
   "metadata": {},
   "source": [
    "There isn't an indication that the source type affects converted rate, as all three rates are close to one another."
   ]
  },
  {
   "cell_type": "markdown",
   "metadata": {},
   "source": [
    "### How about new users?\n",
    "Now how about the same type of tests but for new users, to see which source type served to convert the most new users."
   ]
  },
  {
   "cell_type": "code",
   "execution_count": 9,
   "metadata": {},
   "outputs": [
    {
     "data": {
      "text/plain": [
       "source\n",
       "Ads        875\n",
       "Direct     653\n",
       "Seo       1511\n",
       "dtype: int64"
      ]
     },
     "execution_count": 9,
     "metadata": {},
     "output_type": "execute_result"
    }
   ],
   "source": [
    "new_user_size_per_group_converted = conversions.loc[(conversions.converted == 1) & conversions.new_user == 1].groupby([\"source\"]).size()\n",
    "new_user_size_per_group_converted"
   ]
  },
  {
   "cell_type": "code",
   "execution_count": 10,
   "metadata": {},
   "outputs": [
    {
     "data": {
      "text/plain": [
       "source\n",
       "Ads        60849\n",
       "Direct     49742\n",
       "Seo       106153\n",
       "dtype: int64"
      ]
     },
     "execution_count": 10,
     "metadata": {},
     "output_type": "execute_result"
    }
   ],
   "source": [
    "new_user_size_per_group = conversions.loc[conversions.new_user == 1].groupby([\"source\"]).size()\n",
    "new_user_size_per_group"
   ]
  },
  {
   "cell_type": "code",
   "execution_count": 11,
   "metadata": {},
   "outputs": [
    {
     "data": {
      "text/plain": [
       "source\n",
       "Ads       0.014380\n",
       "Direct    0.013128\n",
       "Seo       0.014234\n",
       "dtype: float64"
      ]
     },
     "execution_count": 11,
     "metadata": {},
     "output_type": "execute_result"
    }
   ],
   "source": [
    "new_user_rates = new_user_size_per_group_converted / new_user_size_per_group\n",
    "new_user_rates"
   ]
  },
  {
   "cell_type": "code",
   "execution_count": 12,
   "metadata": {
    "scrolled": true
   },
   "outputs": [
    {
     "data": {
      "image/png": "[encoded data removed]",
      "text/plain": [
       "<Figure size 432x288 with 1 Axes>"
      ]
     },
     "metadata": {
      "needs_background": "light"
     },
     "output_type": "display_data"
    }
   ],
   "source": [
    "_ = new_user_rates.plot.bar()"
   ]
  },
  {
   "cell_type": "markdown",
   "metadata": {},
   "source": [
    "No, source type doesn't affect conversion greatly"
   ]
  },
  {
   "cell_type": "markdown",
   "metadata": {},
   "source": [
    "## Country"
   ]
  },
  {
   "cell_type": "code",
   "execution_count": 45,
   "metadata": {},
   "outputs": [
    {
     "data": {
      "text/plain": [
       "country\n",
       "China      0.001332\n",
       "Germany    0.062500\n",
       "UK         0.052632\n",
       "US         0.037801\n",
       "dtype: float64"
      ]
     },
     "execution_count": 45,
     "metadata": {},
     "output_type": "execute_result"
    }
   ],
   "source": [
    "country_rate = conversions.loc[conversions.converted == 1].groupby([\"country\"]).size() / conversions.groupby([\"country\"]).size()\n",
    "country_rate"
   ]
  },
  {
   "cell_type": "code",
   "execution_count": 42,
   "metadata": {
    "scrolled": true
   },
   "outputs": [
    {
     "data": {
      "text/plain": [
       "<matplotlib.axes._subplots.AxesSubplot at 0x121bdd518>"
      ]
     },
     "execution_count": 42,
     "metadata": {},
     "output_type": "execute_result"
    },
    {
     "data": {
      "image/png": "[encoded data removed]",
      "text/plain": [
       "<Figure size 432x288 with 1 Axes>"
      ]
     },
     "metadata": {
      "needs_background": "light"
     },
     "output_type": "display_data"
    }
   ],
   "source": [
    "country_rate.plot.bar()"
   ]
  },
  {
   "cell_type": "markdown",
   "metadata": {},
   "source": [
    "There's not really much difference here between Germany, the UK and the US, but China is falling behind. The platform is not as successful there."
   ]
  },
  {
   "cell_type": "markdown",
   "metadata": {},
   "source": [
    "## Age"
   ]
  },
  {
   "cell_type": "code",
   "execution_count": 32,
   "metadata": {
    "scrolled": true
   },
   "outputs": [
    {
     "data": {
      "text/plain": [
       "age\n",
       "17     0.071607\n",
       "18     0.066029\n",
       "19     0.058616\n",
       "20     0.057109\n",
       "21     0.053985\n",
       "22     0.053243\n",
       "23     0.047990\n",
       "24     0.045448\n",
       "25     0.038782\n",
       "26     0.039767\n",
       "27     0.033513\n",
       "28     0.032564\n",
       "29     0.033621\n",
       "30     0.028998\n",
       "31     0.027461\n",
       "32     0.024802\n",
       "33     0.023989\n",
       "34     0.021556\n",
       "35     0.018394\n",
       "36     0.019297\n",
       "37     0.018953\n",
       "38     0.014158\n",
       "39     0.017313\n",
       "40     0.014270\n",
       "41     0.012342\n",
       "42     0.013243\n",
       "43     0.011623\n",
       "44     0.009943\n",
       "45     0.012383\n",
       "46     0.011356\n",
       "47     0.007987\n",
       "48     0.009430\n",
       "49     0.007366\n",
       "50     0.005900\n",
       "51     0.006404\n",
       "52     0.005348\n",
       "53     0.003190\n",
       "54     0.001923\n",
       "55     0.007614\n",
       "56          NaN\n",
       "57          NaN\n",
       "58     0.012121\n",
       "59          NaN\n",
       "60     0.021277\n",
       "61     0.014085\n",
       "62          NaN\n",
       "63          NaN\n",
       "64          NaN\n",
       "65          NaN\n",
       "66          NaN\n",
       "67          NaN\n",
       "68          NaN\n",
       "69          NaN\n",
       "70          NaN\n",
       "72          NaN\n",
       "73          NaN\n",
       "77          NaN\n",
       "79          NaN\n",
       "111    1.000000\n",
       "123    1.000000\n",
       "dtype: float64"
      ]
     },
     "execution_count": 32,
     "metadata": {},
     "output_type": "execute_result"
    }
   ],
   "source": [
    "age_rate = conversions.loc[conversions.converted == 1].groupby([\"age\"]).size() / conversions.groupby([\"age\"]).size()\n",
    "age_rate"
   ]
  },
  {
   "cell_type": "code",
   "execution_count": 39,
   "metadata": {
    "scrolled": true
   },
   "outputs": [
    {
     "data": {
      "text/plain": [
       "<matplotlib.axes._subplots.AxesSubplot at 0x121acb7b8>"
      ]
     },
     "execution_count": 39,
     "metadata": {},
     "output_type": "execute_result"
    },
    {
     "data": {
      "image/png": "[encoded data removed]",
      "text/plain": [
       "<Figure size 432x288 with 1 Axes>"
      ]
     },
     "metadata": {
      "needs_background": "light"
     },
     "output_type": "display_data"
    }
   ],
   "source": [
    "age_rate.loc[0:61].plot.bar()"
   ]
  },
  {
   "cell_type": "markdown",
   "metadata": {},
   "source": [
    "The younger the audience, the higher the conversion rate."
   ]
  },
  {
   "cell_type": "markdown",
   "metadata": {},
   "source": [
    "## Total Pages Visited"
   ]
  },
  {
   "cell_type": "code",
   "execution_count": 43,
   "metadata": {},
   "outputs": [
    {
     "data": {
      "text/plain": [
       "total_pages_visited\n",
       "1          NaN\n",
       "2     0.000228\n",
       "3     0.000251\n",
       "4     0.000780\n",
       "5     0.001570\n",
       "6     0.003437\n",
       "7     0.006769\n",
       "8     0.015238\n",
       "9     0.033067\n",
       "10    0.061184\n",
       "11    0.123471\n",
       "12    0.244537\n",
       "13    0.400825\n",
       "14    0.587521\n",
       "15    0.740377\n",
       "16    0.871818\n",
       "17    0.923077\n",
       "18    0.961219\n",
       "19    0.989381\n",
       "20    0.997531\n",
       "21    1.000000\n",
       "22    1.000000\n",
       "23    1.000000\n",
       "24    1.000000\n",
       "25    1.000000\n",
       "26    1.000000\n",
       "27    1.000000\n",
       "28    1.000000\n",
       "29    1.000000\n",
       "dtype: float64"
      ]
     },
     "execution_count": 43,
     "metadata": {},
     "output_type": "execute_result"
    }
   ],
   "source": [
    "pages_rate = conversions.loc[conversions.converted == 1].groupby([\"total_pages_visited\"]).size() / conversions.groupby([\"total_pages_visited\"]).size()\n",
    "pages_rate"
   ]
  },
  {
   "cell_type": "code",
   "execution_count": 44,
   "metadata": {},
   "outputs": [
    {
     "data": {
      "text/plain": [
       "<matplotlib.axes._subplots.AxesSubplot at 0x11d54d198>"
      ]
     },
     "execution_count": 44,
     "metadata": {},
     "output_type": "execute_result"
    },
    {
     "data": {
      "image/png": "[encoded data removed]",
      "text/plain": [
       "<Figure size 432x288 with 1 Axes>"
      ]
     },
     "metadata": {
      "needs_background": "light"
     },
     "output_type": "display_data"
    }
   ],
   "source": [
    "pages_rate.plot.bar()"
   ]
  },
  {
   "cell_type": "markdown",
   "metadata": {},
   "source": [
    "The longer the period the user spends on the page (the more pages the user visits), the higher the conversion rate."
   ]
  },
  {
   "cell_type": "markdown",
   "metadata": {},
   "source": [
    "## Conclusion"
   ]
  },
  {
   "cell_type": "markdown",
   "metadata": {},
   "source": [
    "The platform should aim to keep users in the site, as that's the strongest variable in relation to conversion according to this analysis, and aim their products or marketing at people (young adults) in the age range of 17 - 25."
   ]
  },
  {
   "cell_type": "code",
   "execution_count": null,
   "metadata": {},
   "outputs": [],
   "source": []
  }
 ],
 "metadata": {
  "kernelspec": {
   "display_name": "Python 3",
   "language": "python",
   "name": "python3"
  },
  "language_info": {
   "codemirror_mode": {
    "name": "ipython",
    "version": 3
   },
   "file_extension": ".py",
   "mimetype": "text/x-python",
   "name": "python",
   "nbconvert_exporter": "python",
   "pygments_lexer": "ipython3",
   "version": "3.7.2"
  }
 },
 "nbformat": 4,
 "nbformat_minor": 2
}
