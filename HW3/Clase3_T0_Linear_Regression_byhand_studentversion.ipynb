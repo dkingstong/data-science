{
 "cells": [
  {
   "cell_type": "markdown",
   "metadata": {},
   "source": [
    "# In this practice we will program a linear regression using for loops, functions and Lists"
   ]
  },
  {
   "cell_type": "markdown",
   "metadata": {},
   "source": [
    "It is not a practice on regression. It is a practice on general python programming."
   ]
  },
  {
   "cell_type": "markdown",
   "metadata": {},
   "source": [
    "A linear regression is when you fit a line to a collection of data points. The line that is \"closest\" to all the datapoints \n",
    "is the best regression.\n"
   ]
  },
  {
   "cell_type": "markdown",
   "metadata": {},
   "source": [
    "$y=m*x+b$\n",
    " \n",
    " formula for a line: $m$ is the slope, and $b$ is the intercept."
   ]
  },
  {
   "cell_type": "markdown",
   "metadata": {},
   "source": [
    "#### Create a function that takes m, b and x and return the y value for that x"
   ]
  },
  {
   "cell_type": "code",
   "execution_count": 1,
   "metadata": {},
   "outputs": [],
   "source": [
    "def y(m, b, x):\n",
    "    return m * x + b"
   ]
  },
  {
   "cell_type": "markdown",
   "metadata": {},
   "source": [
    "#### Now, let's calculate the error between a data point and a line for a given x value"
   ]
  },
  {
   "cell_type": "markdown",
   "metadata": {},
   "source": [
    "We will create a function called $error$, which will take in $m$, $b$ and a datapoint $[x,y]$ and it will return the distance between the line and the point.\n",
    "\n",
    "To find the distance:\n",
    "1. Get the $x$-value from the point and store is in a variable called $x_{point}$\n",
    "2. Get the $y$-value from the point and store it in a variable called $y_{real}$\n",
    "3. Use the $y_{hat}$ function to get the y value that \"x_point\" would give on the line\n",
    "4. Find the difference between the y value from $y_{hat}$  and $y_{real}$\n",
    "5. Return the absolute value of the distance (absolute error)"
   ]
  },
  {
   "cell_type": "code",
   "execution_count": 2,
   "metadata": {},
   "outputs": [],
   "source": [
    "def error(m, b, tup):\n",
    "    x_point, y_real = tup\n",
    "    y_hat = y(m, b, x_point)\n",
    "    return abs(y_hat - y_real)"
   ]
  },
  {
   "cell_type": "code",
   "execution_count": 3,
   "metadata": {},
   "outputs": [
    {
     "name": "stdout",
     "output_type": "stream",
     "text": [
      "0\n",
      "1\n",
      "1\n",
      "5\n"
     ]
    }
   ],
   "source": [
    "\n",
    "print(error(1, 0, (3, 3))) #answer should be 0\n",
    "\n",
    "print(error(1, 0, (3, 4))) #answer should be 1\n",
    "\n",
    "print(error(1, -1, (3, 3))) #answer should be 1\n",
    "\n",
    "print(error(-1, 1, (3, 3))) #answer should be 5"
   ]
  },
  {
   "cell_type": "markdown",
   "metadata": {},
   "source": [
    "#### Next, we need to calculate the error of several datapoints against a line defined by some values of $m$, and $b$"
   ]
  },
  {
   "cell_type": "markdown",
   "metadata": {},
   "source": [
    "In this part you will be given a set of datapoints and values for $m$ and $b$ andyou should compute the total error.\n",
    "The total error is the sum of the individual errors for each datapoint.\n",
    "\n",
    "The datapoints will be given as an array of tuples: i.e [(1, 1), (3, 3), (5, 5), (-1, -1)]"
   ]
  },
  {
   "cell_type": "code",
   "execution_count": null,
   "metadata": {},
   "outputs": [],
   "source": []
  },
  {
   "cell_type": "code",
   "execution_count": 4,
   "metadata": {},
   "outputs": [],
   "source": [
    "#You function goes here\n",
    "def all_error(m, b, datapoints):\n",
    "    total_error = 0\n",
    "    for tup in datapoints:\n",
    "        total_error += error(m, b, tup)\n",
    "    return total_error"
   ]
  },
  {
   "cell_type": "code",
   "execution_count": 5,
   "metadata": {},
   "outputs": [
    {
     "name": "stdout",
     "output_type": "stream",
     "text": [
      "0\n",
      "4\n",
      "4\n",
      "18\n"
     ]
    }
   ],
   "source": [
    "\n",
    "datapoints = [(1, 1), (3, 3), (5, 5), (-1, -1)]\n",
    "print(all_error(1, 0, datapoints))\n",
    "# Answer should be 0\n",
    "\n",
    "datapoints = [(1, 1), (3, 3), (5, 5), (-1, -1)]\n",
    "print(all_error(1, 1, datapoints))\n",
    "# Answer should be 4\n",
    "\n",
    "datapoints = [(1, 1), (3, 3), (5, 5), (-1, -1)]\n",
    "print(all_error(1, -1, datapoints))\n",
    "# Answer should be 4\n",
    "\n",
    "\n",
    "datapoints = [(1, 1), (3, 3), (5, 5), (-1, -1)]\n",
    "print(all_error(-1, 1, datapoints))\n",
    "# Answer should be 18"
   ]
  },
  {
   "cell_type": "markdown",
   "metadata": {},
   "source": [
    "# Now we will find the $m$ and $b$ values that minimize the error"
   ]
  },
  {
   "cell_type": "markdown",
   "metadata": {},
   "source": [
    "Let's create a list of possible m values to try. Make the list possible_ms that goes from -10 to 10 inclusive, in increments of 0.1"
   ]
  },
  {
   "cell_type": "code",
   "execution_count": 6,
   "metadata": {},
   "outputs": [
    {
     "name": "stdout",
     "output_type": "stream",
     "text": [
      "[-10.   -9.9  -9.8  -9.7  -9.6  -9.5  -9.4  -9.3  -9.2  -9.1  -9.   -8.9\n",
      "  -8.8  -8.7  -8.6  -8.5  -8.4  -8.3  -8.2  -8.1  -8.   -7.9  -7.8  -7.7\n",
      "  -7.6  -7.5  -7.4  -7.3  -7.2  -7.1  -7.   -6.9  -6.8  -6.7  -6.6  -6.5\n",
      "  -6.4  -6.3  -6.2  -6.1  -6.   -5.9  -5.8  -5.7  -5.6  -5.5  -5.4  -5.3\n",
      "  -5.2  -5.1  -5.   -4.9  -4.8  -4.7  -4.6  -4.5  -4.4  -4.3  -4.2  -4.1\n",
      "  -4.   -3.9  -3.8  -3.7  -3.6  -3.5  -3.4  -3.3  -3.2  -3.1  -3.   -2.9\n",
      "  -2.8  -2.7  -2.6  -2.5  -2.4  -2.3  -2.2  -2.1  -2.   -1.9  -1.8  -1.7\n",
      "  -1.6  -1.5  -1.4  -1.3  -1.2  -1.1  -1.   -0.9  -0.8  -0.7  -0.6  -0.5\n",
      "  -0.4  -0.3  -0.2  -0.1  -0.    0.1   0.2   0.3   0.4   0.5   0.6   0.7\n",
      "   0.8   0.9   1.    1.1   1.2   1.3   1.4   1.5   1.6   1.7   1.8   1.9\n",
      "   2.    2.1   2.2   2.3   2.4   2.5   2.6   2.7   2.8   2.9   3.    3.1\n",
      "   3.2   3.3   3.4   3.5   3.6   3.7   3.8   3.9   4.    4.1   4.2   4.3\n",
      "   4.4   4.5   4.6   4.7   4.8   4.9   5.    5.1   5.2   5.3   5.4   5.5\n",
      "   5.6   5.7   5.8   5.9   6.    6.1   6.2   6.3   6.4   6.5   6.6   6.7\n",
      "   6.8   6.9   7.    7.1   7.2   7.3   7.4   7.5   7.6   7.7   7.8   7.9\n",
      "   8.    8.1   8.2   8.3   8.4   8.5   8.6   8.7   8.8   8.9   9.    9.1\n",
      "   9.2   9.3   9.4   9.5   9.6   9.7   9.8   9.9  10. ]\n"
     ]
    }
   ],
   "source": [
    "import numpy as np\n",
    "m_values = np.arange(-10, 10.1, 0.1).round(1)\n",
    "print(m_values)"
   ]
  },
  {
   "cell_type": "markdown",
   "metadata": {},
   "source": [
    "Make a list of possible_bs to check that would be the values from -20 to 20 inclusive, in steps of 0.1:"
   ]
  },
  {
   "cell_type": "code",
   "execution_count": 7,
   "metadata": {},
   "outputs": [
    {
     "name": "stdout",
     "output_type": "stream",
     "text": [
      "[-20.  -19.9 -19.8 -19.7 -19.6 -19.5 -19.4 -19.3 -19.2 -19.1 -19.  -18.9\n",
      " -18.8 -18.7 -18.6 -18.5 -18.4 -18.3 -18.2 -18.1 -18.  -17.9 -17.8 -17.7\n",
      " -17.6 -17.5 -17.4 -17.3 -17.2 -17.1 -17.  -16.9 -16.8 -16.7 -16.6 -16.5\n",
      " -16.4 -16.3 -16.2 -16.1 -16.  -15.9 -15.8 -15.7 -15.6 -15.5 -15.4 -15.3\n",
      " -15.2 -15.1 -15.  -14.9 -14.8 -14.7 -14.6 -14.5 -14.4 -14.3 -14.2 -14.1\n",
      " -14.  -13.9 -13.8 -13.7 -13.6 -13.5 -13.4 -13.3 -13.2 -13.1 -13.  -12.9\n",
      " -12.8 -12.7 -12.6 -12.5 -12.4 -12.3 -12.2 -12.1 -12.  -11.9 -11.8 -11.7\n",
      " -11.6 -11.5 -11.4 -11.3 -11.2 -11.1 -11.  -10.9 -10.8 -10.7 -10.6 -10.5\n",
      " -10.4 -10.3 -10.2 -10.1 -10.   -9.9  -9.8  -9.7  -9.6  -9.5  -9.4  -9.3\n",
      "  -9.2  -9.1  -9.   -8.9  -8.8  -8.7  -8.6  -8.5  -8.4  -8.3  -8.2  -8.1\n",
      "  -8.   -7.9  -7.8  -7.7  -7.6  -7.5  -7.4  -7.3  -7.2  -7.1  -7.   -6.9\n",
      "  -6.8  -6.7  -6.6  -6.5  -6.4  -6.3  -6.2  -6.1  -6.   -5.9  -5.8  -5.7\n",
      "  -5.6  -5.5  -5.4  -5.3  -5.2  -5.1  -5.   -4.9  -4.8  -4.7  -4.6  -4.5\n",
      "  -4.4  -4.3  -4.2  -4.1  -4.   -3.9  -3.8  -3.7  -3.6  -3.5  -3.4  -3.3\n",
      "  -3.2  -3.1  -3.   -2.9  -2.8  -2.7  -2.6  -2.5  -2.4  -2.3  -2.2  -2.1\n",
      "  -2.   -1.9  -1.8  -1.7  -1.6  -1.5  -1.4  -1.3  -1.2  -1.1  -1.   -0.9\n",
      "  -0.8  -0.7  -0.6  -0.5  -0.4  -0.3  -0.2  -0.1   0.    0.1   0.2   0.3\n",
      "   0.4   0.5   0.6   0.7   0.8   0.9   1.    1.1   1.2   1.3   1.4   1.5\n",
      "   1.6   1.7   1.8   1.9   2.    2.1   2.2   2.3   2.4   2.5   2.6   2.7\n",
      "   2.8   2.9   3.    3.1   3.2   3.3   3.4   3.5   3.6   3.7   3.8   3.9\n",
      "   4.    4.1   4.2   4.3   4.4   4.5   4.6   4.7   4.8   4.9   5.    5.1\n",
      "   5.2   5.3   5.4   5.5   5.6   5.7   5.8   5.9   6.    6.1   6.2   6.3\n",
      "   6.4   6.5   6.6   6.7   6.8   6.9   7.    7.1   7.2   7.3   7.4   7.5\n",
      "   7.6   7.7   7.8   7.9   8.    8.1   8.2   8.3   8.4   8.5   8.6   8.7\n",
      "   8.8   8.9   9.    9.1   9.2   9.3   9.4   9.5   9.6   9.7   9.8   9.9\n",
      "  10.   10.1  10.2  10.3  10.4  10.5  10.6  10.7  10.8  10.9  11.   11.1\n",
      "  11.2  11.3  11.4  11.5  11.6  11.7  11.8  11.9  12.   12.1  12.2  12.3\n",
      "  12.4  12.5  12.6  12.7  12.8  12.9  13.   13.1  13.2  13.3  13.4  13.5\n",
      "  13.6  13.7  13.8  13.9  14.   14.1  14.2  14.3  14.4  14.5  14.6  14.7\n",
      "  14.8  14.9  15.   15.1  15.2  15.3  15.4  15.5  15.6  15.7  15.8  15.9\n",
      "  16.   16.1  16.2  16.3  16.4  16.5  16.6  16.7  16.8  16.9  17.   17.1\n",
      "  17.2  17.3  17.4  17.5  17.6  17.7  17.8  17.9  18.   18.1  18.2  18.3\n",
      "  18.4  18.5  18.6  18.7  18.8  18.9  19.   19.1  19.2  19.3  19.4  19.5\n",
      "  19.6  19.7  19.8  19.9  20. ]\n"
     ]
    }
   ],
   "source": [
    "b_values = np.arange(-20, 20.1, 0.1).round(1)\n",
    "print(b_values)"
   ]
  },
  {
   "cell_type": "markdown",
   "metadata": {},
   "source": [
    "Now calculate the best m and b values for this dataset.\n",
    "\n",
    "datapoints = [(1, 2), (2, 0), (3, 4), (4, 4), (5, 3)]"
   ]
  },
  {
   "cell_type": "markdown",
   "metadata": {},
   "source": [
    "We are going to find the smallest error. First, we will make every possible `y = m*x + b` line by pairing all of the possible `m`s with all of the possible `b`s. Then, we will see which `y = m*x + b` line produces the smallest total error with the set of data stored in `datapoint`.\n",
    "\n",
    "First, create the variables that we will be optimizing:\n",
    "* `smallest_error` &mdash; this should start at infinity (`float(\"inf\")`) so that any error we get at first will be smaller than our value of `smallest_error`\n",
    "* `best_m` &mdash; we can start this at `0`\n",
    "* `best_b` &mdash; we can start this at `0`\n",
    "\n",
    "We want to:\n",
    "* Iterate through each element `m` in `possible_ms`\n",
    "* For every `m` value, take every `b` value in `possible_bs`\n",
    "* If the value returned from `calculate_all_error` on this `m` value, this `b` value, and `datapoints` is less than our current `smallest_error`,\n",
    "* Set `best_m` and `best_b` to be these values, and set `smallest_error` to this error.\n",
    "\n",
    "By the end of these nested loops, the `smallest_error` should hold the smallest error we have found, and `best_m` and `best_b` should be the values that produced that smallest error value.\n",
    "\n",
    "Print out `best_m`, `best_b` and `smallest_error` after the loops.\n",
    "\n"
   ]
  },
  {
   "cell_type": "code",
   "execution_count": 8,
   "metadata": {},
   "outputs": [
    {
     "name": "stdout",
     "output_type": "stream",
     "text": [
      "m: 0.4\n",
      "b: 1.6\n",
      "smallest error: 5.0\n"
     ]
    }
   ],
   "source": [
    "datapoints = [(1, 2), (2, 0), (3, 4), (4, 4), (5, 3)]\n",
    "smallest_error = float(\"inf\")\n",
    "best_m = 0\n",
    "best_b = 0\n",
    "#write the code\n",
    "for m in m_values:\n",
    "    for b in b_values:\n",
    "        current_error = all_error(m,b,datapoints)\n",
    "        if current_error < smallest_error:\n",
    "            smallest_error = current_error\n",
    "            best_m = m\n",
    "            best_b = b\n",
    "print(\"m:\",best_m)\n",
    "print(\"b:\",best_b)\n",
    "print(\"smallest error:\",smallest_error)"
   ]
  },
  {
   "cell_type": "code",
   "execution_count": 9,
   "metadata": {},
   "outputs": [
    {
     "data": {
      "text/plain": [
       "10.0"
      ]
     },
     "execution_count": 9,
     "metadata": {},
     "output_type": "execute_result"
    }
   ],
   "source": [
    "m"
   ]
  },
  {
   "cell_type": "code",
   "execution_count": 10,
   "metadata": {},
   "outputs": [
    {
     "data": {
      "text/plain": [
       "20.0"
      ]
     },
     "execution_count": 10,
     "metadata": {},
     "output_type": "execute_result"
    }
   ],
   "source": [
    "b"
   ]
  },
  {
   "cell_type": "code",
   "execution_count": 11,
   "metadata": {},
   "outputs": [
    {
     "data": {
      "text/plain": [
       "237.0"
      ]
     },
     "execution_count": 11,
     "metadata": {},
     "output_type": "execute_result"
    }
   ],
   "source": [
    "current_error"
   ]
  },
  {
   "cell_type": "code",
   "execution_count": 12,
   "metadata": {},
   "outputs": [
    {
     "data": {
      "text/plain": [
       "5.0"
      ]
     },
     "execution_count": 12,
     "metadata": {},
     "output_type": "execute_result"
    }
   ],
   "source": [
    "smallest_error"
   ]
  },
  {
   "cell_type": "code",
   "execution_count": 13,
   "metadata": {},
   "outputs": [
    {
     "data": {
      "text/plain": [
       "0.4"
      ]
     },
     "execution_count": 13,
     "metadata": {},
     "output_type": "execute_result"
    }
   ],
   "source": [
    "best_m"
   ]
  },
  {
   "cell_type": "code",
   "execution_count": 14,
   "metadata": {},
   "outputs": [
    {
     "data": {
      "text/plain": [
       "1.6"
      ]
     },
     "execution_count": 14,
     "metadata": {},
     "output_type": "execute_result"
    }
   ],
   "source": [
    "best_b"
   ]
  },
  {
   "cell_type": "markdown",
   "metadata": {},
   "source": [
    "# Homework"
   ]
  },
  {
   "cell_type": "markdown",
   "metadata": {},
   "source": [
    "# Do the following\n",
    "1) Plot a scatter plot of the datapoints in the array (you should investigate what a scatter plot is).\n",
    "\n",
    "2) In the same plot, draw five different lines in blue color for five randomly-chosen pairs of m,b in m_list and b_list respectively.\n",
    "\n",
    "3) Again, in the same plot draw the line with the best_m and best_b values in red color"
   ]
  },
  {
   "cell_type": "markdown",
   "metadata": {},
   "source": [
    "Note*: For this exercise you may use random library and matplotlib.pyplot library."
   ]
  },
  {
   "cell_type": "code",
   "execution_count": 16,
   "metadata": {},
   "outputs": [
    {
     "data": {
      "image/png": "[encoded data removed]",
      "text/plain": [
       "<Figure size 432x288 with 1 Axes>"
      ]
     },
     "metadata": {
      "needs_background": "light"
     },
     "output_type": "display_data"
    }
   ],
   "source": [
    "import random\n",
    "import numpy as np\n",
    "from matplotlib import pyplot as plt\n",
    "\n",
    "x_values = [1, 2, 3, 4, 5]\n",
    "y_values = [2, 0, 4, 4, 3]\n",
    "plt.scatter(x_values, y_values)\n",
    "for i in range(5):\n",
    "    m = random.choice(m_values)\n",
    "    b = random.choice(b_values)\n",
    "    plt.plot([1,5], [y(m,b,1), y(m,b,5)], 'b')\n",
    "plt.plot([1,5], [y(best_m, best_b, 1), y(best_m, best_b, 5)], 'r')\n",
    "plt.show()"
   ]
  },
  {
   "cell_type": "code",
   "execution_count": null,
   "metadata": {},
   "outputs": [],
   "source": []
  }
 ],
 "metadata": {
  "kernelspec": {
   "display_name": "Python 3",
   "language": "python",
   "name": "python3"
  },
  "language_info": {
   "codemirror_mode": {
    "name": "ipython",
    "version": 3
   },
   "file_extension": ".py",
   "mimetype": "text/x-python",
   "name": "python",
   "nbconvert_exporter": "python",
   "pygments_lexer": "ipython3",
   "version": "3.7.2"
  }
 },
 "nbformat": 4,
 "nbformat_minor": 2
}
